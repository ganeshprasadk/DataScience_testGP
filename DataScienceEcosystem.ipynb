{
 "cells": [
  {
   "cell_type": "markdown",
   "id": "d3dba236",
   "metadata": {},
   "source": [
    "# H1:   Data Science Tools and Ecosystem"
   ]
  },
  {
   "cell_type": "markdown",
   "id": "7faef87e",
   "metadata": {},
   "source": [
    "# In this notebook, Data Science Tools and Ecosystem are summarized."
   ]
  },
  {
   "cell_type": "markdown",
   "id": "abd4b476",
   "metadata": {},
   "source": [
    "Some of the popular languages that Data Scientists use are:\n",
    "1. Python\n",
    "2. R"
   ]
  },
  {
   "cell_type": "markdown",
   "id": "5e414e58",
   "metadata": {},
   "source": [
    "Some of the commonly used libraries used by Data Scientists include:\n",
    "1. pandas\n",
    "2. matplotlib\n",
    "3. numpy"
   ]
  },
  {
   "cell_type": "markdown",
   "id": "74b9efdb",
   "metadata": {},
   "source": [
    "DS tools\n",
    "1. Jupyter lab\n",
    "2. R studio\n"
   ]
  },
  {
   "cell_type": "markdown",
   "id": "c0fb0dcf",
   "metadata": {},
   "source": [
    "### Below are a few examples of evaluating arithmetic expressions in Python\n"
   ]
  },
  {
   "cell_type": "code",
   "execution_count": 1,
   "id": "bc16cdb3",
   "metadata": {},
   "outputs": [
    {
     "data": {
      "text/plain": [
       "5"
      ]
     },
     "execution_count": 1,
     "metadata": {},
     "output_type": "execute_result"
    }
   ],
   "source": [
    "(2+3)"
   ]
  },
  {
   "cell_type": "code",
   "execution_count": 2,
   "id": "10f78ba0",
   "metadata": {},
   "outputs": [
    {
     "data": {
      "text/plain": [
       "17"
      ]
     },
     "execution_count": 2,
     "metadata": {},
     "output_type": "execute_result"
    }
   ],
   "source": [
    "(3*4)+5\n"
   ]
  },
  {
   "cell_type": "markdown",
   "id": "82f04abe",
   "metadata": {},
   "source": [
    "This will convert Minutes to Hours\n"
   ]
  },
  {
   "cell_type": "code",
   "execution_count": 3,
   "id": "5a8106ea",
   "metadata": {},
   "outputs": [
    {
     "data": {
      "text/plain": [
       "3.3333333333333335"
      ]
     },
     "execution_count": 3,
     "metadata": {},
     "output_type": "execute_result"
    }
   ],
   "source": [
    "200/60\n"
   ]
  },
  {
   "cell_type": "markdown",
   "id": "b25ecafb",
   "metadata": {},
   "source": [
    "List of languages for Data science\n"
   ]
  },
  {
   "cell_type": "markdown",
   "id": "c2f0379c",
   "metadata": {},
   "source": [
    "+ Python\n",
    "+ scala\n",
    "+ R"
   ]
  },
  {
   "cell_type": "markdown",
   "id": "5ffceaea",
   "metadata": {},
   "source": [
    "## Author\n",
    "Ganesh Prasad "
   ]
  },
  {
   "cell_type": "code",
   "execution_count": null,
   "id": "5451ed6d",
   "metadata": {},
   "outputs": [],
   "source": []
  }
 ],
 "metadata": {
  "kernelspec": {
   "display_name": "Python 3 (ipykernel)",
   "language": "python",
   "name": "python3"
  },
  "language_info": {
   "codemirror_mode": {
    "name": "ipython",
    "version": 3
   },
   "file_extension": ".py",
   "mimetype": "text/x-python",
   "name": "python",
   "nbconvert_exporter": "python",
   "pygments_lexer": "ipython3",
   "version": "3.9.13"
  }
 },
 "nbformat": 4,
 "nbformat_minor": 5
}
